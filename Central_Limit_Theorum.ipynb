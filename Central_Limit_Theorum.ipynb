{
  "nbformat": 4,
  "nbformat_minor": 0,
  "metadata": {
    "colab": {
      "name": "Central Limit Theorum.ipynb",
      "provenance": [],
      "collapsed_sections": [],
      "authorship_tag": "ABX9TyNQ4fH4U61s6G4Esxm5PZ4z"
    },
    "kernelspec": {
      "name": "python3",
      "display_name": "Python 3"
    },
    "language_info": {
      "name": "python"
    }
  },
  "cells": [
    {
      "cell_type": "code",
      "metadata": {
        "id": "RzKe9DXplyU1",
        "colab": {
          "base_uri": "https://localhost:8080/",
          "height": 283
        },
        "outputId": "a14744a6-3cf6-4785-bcce-41b4d33c015b"
      },
      "source": [
        "import pandas as pd\n",
        "import random\n",
        "\n",
        "def generatePopulation(populationSize,lowerLimit,highLimit):\n",
        "  \"\"\" returns a population of size n based on random values between x and y.\n",
        "  \"\"\"\n",
        "  population = []\n",
        "  for i in range(1,populationSize):\n",
        "      randomValue = random.randrange(lowerLimit,highLimit)\n",
        "      population = population + [randomValue]\n",
        "  return population\n",
        "\n",
        "population = generatePopulation(5000,45,78)\n",
        "\n",
        "meanOfSamples = []\n",
        "\n",
        "#-------Change this number below to adjust the sample size-------#\n",
        "\n",
        "sampleSize = 500\n",
        "\n",
        "#----------------------------------------------------------------#\n",
        "\n",
        "for i in range(1,sampleSize):\n",
        "  sampleList = random.sample(population,sampleSize)\n",
        "  total = 0\n",
        "  for i in sampleList:\n",
        "    total = total + i\n",
        "  mean = total / len(sampleList)\n",
        "  meanOfSamples = meanOfSamples + [mean]\n",
        "\n",
        "sampleMeans = pd.DataFrame(meanOfSamples, columns=[\"SampleMeans\"])\n",
        "sampleMeans.plot(kind=\"hist\")\n"
      ],
      "execution_count": 1,
      "outputs": [
        {
          "output_type": "execute_result",
          "data": {
            "text/plain": [
              "<matplotlib.axes._subplots.AxesSubplot at 0x7f153d062e50>"
            ]
          },
          "metadata": {},
          "execution_count": 1
        },
        {
          "output_type": "display_data",
          "data": {
            "text/plain": [
              "<Figure size 432x288 with 1 Axes>"
            ],
            "image/png": "[encoded data removed]"
          },
          "metadata": {
            "needs_background": "light"
          }
        }
      ]
    }
  ]
}